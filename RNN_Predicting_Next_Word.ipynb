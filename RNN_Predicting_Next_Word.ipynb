{
  "nbformat": 4,
  "nbformat_minor": 0,
  "metadata": {
    "colab": {
      "name": "RNN_Predicting-Next-Word.ipynb",
      "provenance": [],
      "authorship_tag": "ABX9TyNyU1EuXCIifxZM3bm+2L1D",
      "include_colab_link": true
    },
    "kernelspec": {
      "name": "python3",
      "display_name": "Python 3"
    },
    "accelerator": "GPU"
  },
  "cells": [
    {
      "cell_type": "markdown",
      "metadata": {
        "id": "view-in-github",
        "colab_type": "text"
      },
      "source": [
        "<a href=\"https://colab.research.google.com/github/Affanamin/RNN_Predicting-Next-Word/blob/master/RNN_Predicting_Next_Word.ipynb\" target=\"_parent\"><img src=\"https://colab.research.google.com/assets/colab-badge.svg\" alt=\"Open In Colab\"/></a>"
      ]
    },
    {
      "cell_type": "code",
      "metadata": {
        "id": "5bR92OIHE-Kd",
        "colab_type": "code",
        "colab": {
          "base_uri": "https://localhost:8080/",
          "height": 34
        },
        "outputId": "f7461bce-832f-4ba4-cf31-a37980470f11"
      },
      "source": [
        "import tensorflow as tf\n",
        "from tensorflow import keras\n",
        "import numpy as np\n",
        "from keras.preprocessing import sequence\n",
        "import os\n",
        "import numpy as np\n"
      ],
      "execution_count": 1,
      "outputs": [
        {
          "output_type": "stream",
          "text": [
            "Using TensorFlow backend.\n"
          ],
          "name": "stderr"
        }
      ]
    },
    {
      "cell_type": "code",
      "metadata": {
        "id": "gLidgiAKFW8C",
        "colab_type": "code",
        "colab": {
          "base_uri": "https://localhost:8080/",
          "height": 34
        },
        "outputId": "716a3189-f833-4b1a-c921-9e84c7b5803e"
      },
      "source": [
        "# Read, then decode for py2 compat.\n",
        "text = open('sample_data/Shakespear.txt', 'rb').read().decode(encoding='utf-8')\n",
        "# length of text is the number of characters in it\n",
        "print ('Length of text: {} characters'.format(len(text)))"
      ],
      "execution_count": 3,
      "outputs": [
        {
          "output_type": "stream",
          "text": [
            "Length of text: 1155392 characters\n"
          ],
          "name": "stdout"
        }
      ]
    },
    {
      "cell_type": "code",
      "metadata": {
        "id": "PmDl1MW3Fr56",
        "colab_type": "code",
        "colab": {
          "base_uri": "https://localhost:8080/",
          "height": 255
        },
        "outputId": "c5e2c807-337f-4771-c826-30ee01f9f44c"
      },
      "source": [
        "# Take a look at the first 250 characters in text\n",
        "print(text[:250])"
      ],
      "execution_count": 4,
      "outputs": [
        {
          "output_type": "stream",
          "text": [
            "First Citizen:\r\n",
            "Before we proceed any further, hear me speak.\r\n",
            "\r\n",
            "All:\r\n",
            "Speak, speak.\r\n",
            "\r\n",
            "First Citizen:\r\n",
            "You are all resolved rather to die than to famish?\r\n",
            "\r\n",
            "All:\r\n",
            "Resolved. resolved.\r\n",
            "\r\n",
            "First Citizen:\r\n",
            "First, you know Caius Marcius is chief enemy to\n"
          ],
          "name": "stdout"
        }
      ]
    },
    {
      "cell_type": "code",
      "metadata": {
        "id": "CR0BT06LFy--",
        "colab_type": "code",
        "colab": {}
      },
      "source": [
        "vocab = sorted(set(text))\n",
        "# Creating a mapping from unique characters to indices\n",
        "char2idx = {u:i for i, u in enumerate(vocab)}\n",
        "idx2char = np.array(vocab)\n",
        "\n",
        "def text_to_int(text):\n",
        "  return np.array([char2idx[c] for c in text])\n",
        "\n",
        "text_as_int = text_to_int(text)"
      ],
      "execution_count": 0,
      "outputs": []
    },
    {
      "cell_type": "code",
      "metadata": {
        "id": "DcAaG6KNF1H-",
        "colab_type": "code",
        "colab": {
          "base_uri": "https://localhost:8080/",
          "height": 34
        },
        "outputId": "65ed7115-0dde-4cbb-8621-a470de7f3f0f"
      },
      "source": [
        "def int_to_text(ints):\n",
        "  try:\n",
        "    ints = ints.numpy()\n",
        "  except:\n",
        "    pass\n",
        "  return ''.join(idx2char[ints])\n",
        "\n",
        "print(int_to_text(text_as_int[:13]))"
      ],
      "execution_count": 6,
      "outputs": [
        {
          "output_type": "stream",
          "text": [
            "First Citizen\n"
          ],
          "name": "stdout"
        }
      ]
    },
    {
      "cell_type": "code",
      "metadata": {
        "id": "LvS0gO4VF37d",
        "colab_type": "code",
        "colab": {}
      },
      "source": [
        "seq_length = 100  # length of sequence for a training example\n",
        "examples_per_epoch = len(text)//(seq_length+1)\n",
        "\n",
        "# Create training examples / targets\n",
        "char_dataset = tf.data.Dataset.from_tensor_slices(text_as_int)"
      ],
      "execution_count": 0,
      "outputs": []
    },
    {
      "cell_type": "code",
      "metadata": {
        "id": "Hvow9HyMF5jc",
        "colab_type": "code",
        "colab": {}
      },
      "source": [
        "sequences = char_dataset.batch(seq_length+1, drop_remainder=True)"
      ],
      "execution_count": 0,
      "outputs": []
    },
    {
      "cell_type": "code",
      "metadata": {
        "id": "vN7ThqFWF7qd",
        "colab_type": "code",
        "colab": {}
      },
      "source": [
        "def split_input_target(chunk):  # for the example: hello\n",
        "    input_text = chunk[:-1]  # hell\n",
        "    target_text = chunk[1:]  # ello\n",
        "    return input_text, target_text  # hell, ello\n",
        "\n",
        "dataset = sequences.map(split_input_target)  # we use map to apply the above function to every entry"
      ],
      "execution_count": 0,
      "outputs": []
    },
    {
      "cell_type": "code",
      "metadata": {
        "id": "5bMlu-4HF8_E",
        "colab_type": "code",
        "colab": {
          "base_uri": "https://localhost:8080/",
          "height": 731
        },
        "outputId": "f827849c-df28-4c30-fa16-7b6bf1b66afb"
      },
      "source": [
        "for x, y in dataset.take(2):\n",
        "  print(\"\\n\\nEXAMPLE\\n\")\n",
        "  print(\"INPUT\")\n",
        "  print(int_to_text(x))\n",
        "  print(\"\\nOUTPUT\")\n",
        "  print(int_to_text(y))"
      ],
      "execution_count": 10,
      "outputs": [
        {
          "output_type": "stream",
          "text": [
            "\n",
            "\n",
            "EXAMPLE\n",
            "\n",
            "INPUT\n",
            "First Citizen:\r\n",
            "Before we proceed any further, hear me speak.\r\n",
            "\r\n",
            "All:\r\n",
            "Speak, speak.\r\n",
            "\r\n",
            "First Citize\n",
            "\n",
            "OUTPUT\n",
            "irst Citizen:\r\n",
            "Before we proceed any further, hear me speak.\r\n",
            "\r\n",
            "All:\r\n",
            "Speak, speak.\r\n",
            "\r\n",
            "First Citizen\n",
            "\n",
            "\n",
            "EXAMPLE\n",
            "\n",
            "INPUT\n",
            ":\r\n",
            "You are all resolved rather to die than to famish?\r\n",
            "\r\n",
            "All:\r\n",
            "Resolved. resolved.\r\n",
            "\r\n",
            "First Citizen:\n",
            "\n",
            "OUTPUT\n",
            "\r\n",
            "You are all resolved rather to die than to famish?\r\n",
            "\r\n",
            "All:\r\n",
            "Resolved. resolved.\r\n",
            "\r\n",
            "First Citizen:\r\n"
          ],
          "name": "stdout"
        }
      ]
    },
    {
      "cell_type": "code",
      "metadata": {
        "id": "_gLrEYn1F-Z0",
        "colab_type": "code",
        "colab": {}
      },
      "source": [
        "BATCH_SIZE = 64\n",
        "VOCAB_SIZE = len(vocab)  # vocab is number of unique characters\n",
        "EMBEDDING_DIM = 256\n",
        "RNN_UNITS = 1024\n",
        "\n",
        "# Buffer size to shuffle the dataset\n",
        "# (TF data is designed to work with possibly infinite sequences,\n",
        "# so it doesn't attempt to shuffle the entire sequence in memory. Instead,\n",
        "# it maintains a buffer in which it shuffles elements).\n",
        "BUFFER_SIZE = 10000\n",
        "\n",
        "data = dataset.shuffle(BUFFER_SIZE).batch(BATCH_SIZE, drop_remainder=True)"
      ],
      "execution_count": 0,
      "outputs": []
    },
    {
      "cell_type": "code",
      "metadata": {
        "id": "TjDsBxeMGAxc",
        "colab_type": "code",
        "colab": {
          "base_uri": "https://localhost:8080/",
          "height": 255
        },
        "outputId": "267d6d6c-0da6-4da3-f22e-1544d1f97ced"
      },
      "source": [
        "def build_model(vocab_size, embedding_dim, rnn_units, batch_size):\n",
        "  model = tf.keras.Sequential([\n",
        "    tf.keras.layers.Embedding(vocab_size, embedding_dim,\n",
        "                              batch_input_shape=[batch_size, None]),\n",
        "    tf.keras.layers.LSTM(rnn_units,\n",
        "                        return_sequences=True,\n",
        "                        stateful=True,\n",
        "                        recurrent_initializer='glorot_uniform'),\n",
        "    tf.keras.layers.Dense(vocab_size)\n",
        "  ])\n",
        "  return model\n",
        "\n",
        "model = build_model(VOCAB_SIZE,EMBEDDING_DIM, RNN_UNITS, BATCH_SIZE)\n",
        "model.summary()"
      ],
      "execution_count": 12,
      "outputs": [
        {
          "output_type": "stream",
          "text": [
            "Model: \"sequential\"\n",
            "_________________________________________________________________\n",
            "Layer (type)                 Output Shape              Param #   \n",
            "=================================================================\n",
            "embedding (Embedding)        (64, None, 256)           16896     \n",
            "_________________________________________________________________\n",
            "lstm (LSTM)                  (64, None, 1024)          5246976   \n",
            "_________________________________________________________________\n",
            "dense (Dense)                (64, None, 66)            67650     \n",
            "=================================================================\n",
            "Total params: 5,331,522\n",
            "Trainable params: 5,331,522\n",
            "Non-trainable params: 0\n",
            "_________________________________________________________________\n"
          ],
          "name": "stdout"
        }
      ]
    },
    {
      "cell_type": "code",
      "metadata": {
        "id": "xxWUJyZvGCr0",
        "colab_type": "code",
        "colab": {
          "base_uri": "https://localhost:8080/",
          "height": 34
        },
        "outputId": "59fb4c9d-bac1-4630-c71f-d2f8c6b38aa6"
      },
      "source": [
        "for input_example_batch, target_example_batch in data.take(1):\n",
        "  example_batch_predictions = model(input_example_batch)  # ask our model for a prediction on our first batch of training data (64 entries)\n",
        "  print(example_batch_predictions.shape, \"# (batch_size, sequence_length, vocab_size)\")  # print out the output shape"
      ],
      "execution_count": 13,
      "outputs": [
        {
          "output_type": "stream",
          "text": [
            "(64, 100, 66) # (batch_size, sequence_length, vocab_size)\n"
          ],
          "name": "stdout"
        }
      ]
    },
    {
      "cell_type": "code",
      "metadata": {
        "id": "GJHwzB6eGEVc",
        "colab_type": "code",
        "colab": {
          "base_uri": "https://localhost:8080/",
          "height": 272
        },
        "outputId": "8fdffc95-3faf-4e5d-9a2a-9626cf7f401e"
      },
      "source": [
        "# lets examine one prediction\n",
        "pred = example_batch_predictions[0]\n",
        "print(len(pred))\n",
        "print(pred)"
      ],
      "execution_count": 15,
      "outputs": [
        {
          "output_type": "stream",
          "text": [
            "100\n",
            "tf.Tensor(\n",
            "[[-5.24993287e-03  3.51384305e-03 -4.39455546e-03 ... -2.00085575e-03\n",
            "   4.48683091e-03  2.19968753e-03]\n",
            " [-2.74243066e-03  7.81201012e-03 -8.14377703e-03 ... -9.72601399e-03\n",
            "   7.45243579e-03 -2.20288057e-03]\n",
            " [-2.49691377e-03  7.57870823e-03 -3.54812690e-03 ... -4.74525942e-03\n",
            "   3.76986526e-03 -4.78145247e-03]\n",
            " ...\n",
            " [-8.05741176e-04  1.33438443e-03 -1.16913114e-04 ... -1.19505590e-03\n",
            "  -8.36926047e-05  4.61265957e-03]\n",
            " [-1.92704727e-03  1.50808727e-03  1.64525479e-03 ...  2.37505138e-03\n",
            "  -3.15607036e-03  2.60789995e-03]\n",
            " [ 3.74519499e-03  2.83054053e-03 -3.55140213e-03 ...  7.76270218e-03\n",
            "  -1.89446320e-03 -1.51895673e-03]], shape=(100, 66), dtype=float32)\n"
          ],
          "name": "stdout"
        }
      ]
    },
    {
      "cell_type": "code",
      "metadata": {
        "id": "vjybPEC0GJWd",
        "colab_type": "code",
        "colab": {
          "base_uri": "https://localhost:8080/",
          "height": 34
        },
        "outputId": "abebe1a2-a623-40ef-edd4-a9e25270bbde"
      },
      "source": [
        "# If we want to determine the predicted character we need to sample the output distribution (pick a value based on probabillity)\n",
        "sampled_indices = tf.random.categorical(pred, num_samples=1)\n",
        "\n",
        "# now we can reshape that array and convert all the integers to numbers to see the actual characters\n",
        "sampled_indices = np.reshape(sampled_indices, (1, -1))[0]\n",
        "predicted_chars = int_to_text(sampled_indices)\n",
        "\n",
        "predicted_chars  # and this is what the model predicted for training sequence 1"
      ],
      "execution_count": 16,
      "outputs": [
        {
          "output_type": "execute_result",
          "data": {
            "text/plain": [
              "\"J;DjXMPCs,ObjwJ\\nReXkro,Tqk:Lcg\\nugvF:CT;OHzMm?\\ri\\nUbjIZbLIXyPPty33- sRCf$reaZNLqNzCJKLDeIw-;XIiF'tGYnK\""
            ]
          },
          "metadata": {
            "tags": []
          },
          "execution_count": 16
        }
      ]
    },
    {
      "cell_type": "code",
      "metadata": {
        "id": "TejCbqseGU2c",
        "colab_type": "code",
        "colab": {}
      },
      "source": [
        "def loss(labels, logits):\n",
        "  return tf.keras.losses.sparse_categorical_crossentropy(labels, logits, from_logits=True)"
      ],
      "execution_count": 0,
      "outputs": []
    },
    {
      "cell_type": "code",
      "metadata": {
        "id": "utUW7eH-GX-7",
        "colab_type": "code",
        "colab": {}
      },
      "source": [
        "model.compile(optimizer='adam', loss=loss)"
      ],
      "execution_count": 0,
      "outputs": []
    },
    {
      "cell_type": "code",
      "metadata": {
        "id": "RfeLRYxLGZjL",
        "colab_type": "code",
        "colab": {}
      },
      "source": [
        "# Directory where the checkpoints will be saved\n",
        "checkpoint_dir = './training_checkpoints'\n",
        "# Name of the checkpoint files\n",
        "checkpoint_prefix = os.path.join(checkpoint_dir, \"ckpt_{epoch}\")\n",
        "\n",
        "checkpoint_callback=tf.keras.callbacks.ModelCheckpoint(\n",
        "    filepath=checkpoint_prefix,\n",
        "    save_weights_only=True)"
      ],
      "execution_count": 0,
      "outputs": []
    },
    {
      "cell_type": "code",
      "metadata": {
        "id": "BZ6Gv8ZuGbsD",
        "colab_type": "code",
        "colab": {
          "base_uri": "https://localhost:8080/",
          "height": 1000
        },
        "outputId": "bbadd8b4-4f07-4a3d-fb4d-6fb0685cb9fe"
      },
      "source": [
        "history = model.fit(data, epochs=60, callbacks=[checkpoint_callback])"
      ],
      "execution_count": 20,
      "outputs": [
        {
          "output_type": "stream",
          "text": [
            "Epoch 1/60\n",
            "178/178 [==============================] - 10s 55ms/step - loss: 2.4981\n",
            "Epoch 2/60\n",
            "178/178 [==============================] - 10s 55ms/step - loss: 1.7924\n",
            "Epoch 3/60\n",
            "178/178 [==============================] - 10s 55ms/step - loss: 1.5604\n",
            "Epoch 4/60\n",
            "178/178 [==============================] - 9s 53ms/step - loss: 1.4382\n",
            "Epoch 5/60\n",
            "178/178 [==============================] - 10s 55ms/step - loss: 1.3640\n",
            "Epoch 6/60\n",
            "178/178 [==============================] - 10s 55ms/step - loss: 1.3120\n",
            "Epoch 7/60\n",
            "178/178 [==============================] - 10s 55ms/step - loss: 1.2700\n",
            "Epoch 8/60\n",
            "178/178 [==============================] - 10s 55ms/step - loss: 1.2330\n",
            "Epoch 9/60\n",
            "178/178 [==============================] - 10s 55ms/step - loss: 1.1988\n",
            "Epoch 10/60\n",
            "178/178 [==============================] - 10s 54ms/step - loss: 1.1648\n",
            "Epoch 11/60\n",
            "178/178 [==============================] - 10s 54ms/step - loss: 1.1315\n",
            "Epoch 12/60\n",
            "178/178 [==============================] - 10s 54ms/step - loss: 1.0958\n",
            "Epoch 13/60\n",
            "178/178 [==============================] - 10s 55ms/step - loss: 1.0608\n",
            "Epoch 14/60\n",
            "178/178 [==============================] - 10s 55ms/step - loss: 1.0237\n",
            "Epoch 15/60\n",
            "178/178 [==============================] - 10s 55ms/step - loss: 0.9858\n",
            "Epoch 16/60\n",
            "178/178 [==============================] - 10s 55ms/step - loss: 0.9469\n",
            "Epoch 17/60\n",
            "178/178 [==============================] - 10s 55ms/step - loss: 0.9066\n",
            "Epoch 18/60\n",
            "178/178 [==============================] - 9s 53ms/step - loss: 0.8690\n",
            "Epoch 19/60\n",
            "178/178 [==============================] - 10s 54ms/step - loss: 0.8333\n",
            "Epoch 20/60\n",
            "178/178 [==============================] - 10s 55ms/step - loss: 0.7972\n",
            "Epoch 21/60\n",
            "178/178 [==============================] - 10s 55ms/step - loss: 0.7646\n",
            "Epoch 22/60\n",
            "178/178 [==============================] - 10s 56ms/step - loss: 0.7312\n",
            "Epoch 23/60\n",
            "178/178 [==============================] - 10s 55ms/step - loss: 0.7038\n",
            "Epoch 24/60\n",
            "178/178 [==============================] - 10s 55ms/step - loss: 0.6757\n",
            "Epoch 25/60\n",
            "178/178 [==============================] - 10s 54ms/step - loss: 0.6519\n",
            "Epoch 26/60\n",
            "178/178 [==============================] - 9s 53ms/step - loss: 0.6290\n",
            "Epoch 27/60\n",
            "178/178 [==============================] - 10s 54ms/step - loss: 0.6093\n",
            "Epoch 28/60\n",
            "178/178 [==============================] - 10s 55ms/step - loss: 0.5916\n",
            "Epoch 29/60\n",
            "178/178 [==============================] - 10s 55ms/step - loss: 0.5750\n",
            "Epoch 30/60\n",
            "178/178 [==============================] - 10s 55ms/step - loss: 0.5600\n",
            "Epoch 31/60\n",
            "178/178 [==============================] - 10s 56ms/step - loss: 0.5473\n",
            "Epoch 32/60\n",
            "178/178 [==============================] - 10s 55ms/step - loss: 0.5333\n",
            "Epoch 33/60\n",
            "178/178 [==============================] - 10s 55ms/step - loss: 0.5230\n",
            "Epoch 34/60\n",
            "178/178 [==============================] - 10s 54ms/step - loss: 0.5131\n",
            "Epoch 35/60\n",
            "178/178 [==============================] - 10s 54ms/step - loss: 0.5035\n",
            "Epoch 36/60\n",
            "178/178 [==============================] - 10s 54ms/step - loss: 0.4969\n",
            "Epoch 37/60\n",
            "178/178 [==============================] - 10s 55ms/step - loss: 0.4878\n",
            "Epoch 38/60\n",
            "178/178 [==============================] - 10s 55ms/step - loss: 0.4800\n",
            "Epoch 39/60\n",
            "178/178 [==============================] - 10s 55ms/step - loss: 0.4743\n",
            "Epoch 40/60\n",
            "178/178 [==============================] - 10s 55ms/step - loss: 0.4691\n",
            "Epoch 41/60\n",
            "178/178 [==============================] - 10s 55ms/step - loss: 0.4645\n",
            "Epoch 42/60\n",
            "178/178 [==============================] - 10s 54ms/step - loss: 0.4590\n",
            "Epoch 43/60\n",
            "178/178 [==============================] - 10s 53ms/step - loss: 0.4546\n",
            "Epoch 44/60\n",
            "178/178 [==============================] - 10s 54ms/step - loss: 0.4527\n",
            "Epoch 45/60\n",
            "178/178 [==============================] - 10s 55ms/step - loss: 0.4484\n",
            "Epoch 46/60\n",
            "178/178 [==============================] - 10s 55ms/step - loss: 0.4456\n",
            "Epoch 47/60\n",
            "178/178 [==============================] - 10s 55ms/step - loss: 0.4426\n",
            "Epoch 48/60\n",
            "178/178 [==============================] - 10s 55ms/step - loss: 0.4393\n",
            "Epoch 49/60\n",
            "178/178 [==============================] - 10s 55ms/step - loss: 0.4377\n",
            "Epoch 50/60\n",
            "178/178 [==============================] - 10s 55ms/step - loss: 0.4346\n",
            "Epoch 51/60\n",
            "178/178 [==============================] - 9s 53ms/step - loss: 0.4307\n",
            "Epoch 52/60\n",
            "178/178 [==============================] - 10s 54ms/step - loss: 0.4287\n",
            "Epoch 53/60\n",
            "178/178 [==============================] - 10s 55ms/step - loss: 0.4250\n",
            "Epoch 54/60\n",
            "178/178 [==============================] - 10s 55ms/step - loss: 0.4248\n",
            "Epoch 55/60\n",
            "178/178 [==============================] - 10s 55ms/step - loss: 0.4242\n",
            "Epoch 56/60\n",
            "178/178 [==============================] - 10s 55ms/step - loss: 0.4224\n",
            "Epoch 57/60\n",
            "178/178 [==============================] - 10s 55ms/step - loss: 0.4225\n",
            "Epoch 58/60\n",
            "178/178 [==============================] - 10s 56ms/step - loss: 0.4212\n",
            "Epoch 59/60\n",
            "178/178 [==============================] - 10s 54ms/step - loss: 0.4179\n",
            "Epoch 60/60\n",
            "178/178 [==============================] - 10s 54ms/step - loss: 0.4161\n"
          ],
          "name": "stdout"
        }
      ]
    },
    {
      "cell_type": "code",
      "metadata": {
        "id": "or13-diPGf87",
        "colab_type": "code",
        "colab": {}
      },
      "source": [
        "model = build_model(VOCAB_SIZE, EMBEDDING_DIM, RNN_UNITS, batch_size=1)"
      ],
      "execution_count": 0,
      "outputs": []
    },
    {
      "cell_type": "code",
      "metadata": {
        "id": "jmXDJtalI6Df",
        "colab_type": "code",
        "colab": {}
      },
      "source": [
        "model.load_weights(tf.train.latest_checkpoint(checkpoint_dir))\n",
        "model.build(tf.TensorShape([1, None]))"
      ],
      "execution_count": 0,
      "outputs": []
    },
    {
      "cell_type": "code",
      "metadata": {
        "id": "i8hm7nJxI-B0",
        "colab_type": "code",
        "colab": {}
      },
      "source": [
        "def generate_text(model, start_string):\n",
        "  # Evaluation step (generating text using the learned model)\n",
        "\n",
        "  # Number of characters to generate\n",
        "  num_generate = 800\n",
        "\n",
        "  # Converting our start string to numbers (vectorizing)\n",
        "  input_eval = [char2idx[s] for s in start_string]\n",
        "  input_eval = tf.expand_dims(input_eval, 0)\n",
        "\n",
        "  # Empty string to store our results\n",
        "  text_generated = []\n",
        "\n",
        "  # Low temperatures results in more predictable text.\n",
        "  # Higher temperatures results in more surprising text.\n",
        "  # Experiment to find the best setting.\n",
        "  temperature = 1.0\n",
        "\n",
        "  # Here batch size == 1\n",
        "  model.reset_states()\n",
        "  for i in range(num_generate):\n",
        "      predictions = model(input_eval)\n",
        "      # remove the batch dimension\n",
        "    \n",
        "      predictions = tf.squeeze(predictions, 0)\n",
        "\n",
        "      # using a categorical distribution to predict the character returned by the model\n",
        "      predictions = predictions / temperature\n",
        "      predicted_id = tf.random.categorical(predictions, num_samples=1)[-1,0].numpy()\n",
        "\n",
        "      # We pass the predicted character as the next input to the model\n",
        "      # along with the previous hidden state\n",
        "      input_eval = tf.expand_dims([predicted_id], 0)\n",
        "\n",
        "      text_generated.append(idx2char[predicted_id])\n",
        "\n",
        "  return (start_string + ''.join(text_generated))"
      ],
      "execution_count": 0,
      "outputs": []
    },
    {
      "cell_type": "code",
      "metadata": {
        "id": "iwSeLVlCJBkc",
        "colab_type": "code",
        "colab": {
          "base_uri": "https://localhost:8080/",
          "height": 510
        },
        "outputId": "7f570454-a016-452b-d826-89eb78afe57a"
      },
      "source": [
        "inp = input(\"Type a starting string: \")\n",
        "print(generate_text(model, inp))\n",
        "\n",
        "\n"
      ],
      "execution_count": 25,
      "outputs": [
        {
          "output_type": "stream",
          "text": [
            "Type a starting string: ROMEO: \n",
            "ROMEO: windows not for charit.\n",
            "O, as this day shall think no less.\n",
            "Courage, thou art all: I do not infected marriage\n",
            "Thou hadst a soul d hence betwixt their loves must fall.\n",
            "\n",
            "First Lord:\n",
            "Beseech your hind of mine?\n",
            "Consider of the memory is gone with us.\n",
            "\n",
            "BRUTUS:\n",
            "You saw no it is: which, as he proved bestow\n",
            "Has ten to one is wink. The garments thou hast be,\n",
            "All thin and daughter?\n",
            "\n",
            "PROSPERO:\n",
            "Shall we perceive the trial instantly.\n",
            "I saw her looks arm forth one so rares him\n",
            "now did hear of their poverty. If you\n",
            "governs for me to speak of Petruchio.'\n",
            "\n",
            "QUEEN ELIZABETH:\n",
            "Cousins, indeed; if ever he not know,\n",
            "Who should be publicly sellen of the fleet\n",
            "Which I did then been so resolved to help you frame\n",
            "For this old house of Marcius, that was\n",
            "the violation of your youth.\n",
            "\n",
            "SICINIU\n"
          ],
          "name": "stdout"
        }
      ]
    },
    {
      "cell_type": "code",
      "metadata": {
        "id": "hhjf6NWEKC3z",
        "colab_type": "code",
        "colab": {}
      },
      "source": [
        ""
      ],
      "execution_count": 0,
      "outputs": []
    }
  ]
}